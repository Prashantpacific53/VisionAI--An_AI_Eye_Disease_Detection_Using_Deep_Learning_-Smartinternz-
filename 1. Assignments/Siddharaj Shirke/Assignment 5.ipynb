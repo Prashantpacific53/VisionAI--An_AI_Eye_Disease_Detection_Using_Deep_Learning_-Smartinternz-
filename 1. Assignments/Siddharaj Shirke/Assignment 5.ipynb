{
  "nbformat": 4,
  "nbformat_minor": 0,
  "metadata": {
    "colab": {
      "provenance": []
    },
    "kernelspec": {
      "name": "python3",
      "display_name": "Python 3"
    },
    "language_info": {
      "name": "python"
    }
  },
  "cells": [
    {
      "cell_type": "code",
      "execution_count": 1,
      "metadata": {
        "id": "gpZ_YqmDZG_y"
      },
      "outputs": [],
      "source": [
        "import pandas as pd\n",
        "import numpy as np\n",
        "import matplotlib.pyplot as plt\n",
        "import seaborn as sns"
      ]
    },
    {
      "cell_type": "code",
      "source": [
        "from sklearn.model_selection import train_test_split\n",
        "from sklearn.preprocessing import StandardScaler, LabelEncoder\n",
        "from sklearn.linear_model import LinearRegression, LogisticRegression\n",
        "from sklearn.tree import DecisionTreeRegressor, DecisionTreeClassifier\n",
        "from sklearn.ensemble import RandomForestClassifier, RandomForestRegressor\n",
        "from sklearn.naive_bayes import GaussianNB\n",
        "from sklearn.svm import SVC\n",
        "from xgboost import XGBClassifier"
      ],
      "metadata": {
        "id": "Q5qX0QSHZK_-"
      },
      "execution_count": 2,
      "outputs": []
    },
    {
      "cell_type": "code",
      "source": [
        "from sklearn.metrics import accuracy_score, mean_squared_error, classification_report"
      ],
      "metadata": {
        "id": "gpyZwWM4ZK3O"
      },
      "execution_count": 3,
      "outputs": []
    },
    {
      "cell_type": "code",
      "source": [
        "# Load dataset - Using the Iris dataset for classification\n",
        "from sklearn.datasets import load_iris\n",
        "iris = load_iris()\n",
        "df = pd.DataFrame(iris.data, columns=iris.feature_names)\n",
        "df['target'] = iris.target"
      ],
      "metadata": {
        "id": "eTm-1pcIZKww"
      },
      "execution_count": 4,
      "outputs": []
    },
    {
      "cell_type": "code",
      "source": [
        "# Encode target variable for classification\n",
        "label_encoder = LabelEncoder()\n",
        "df['target'] = label_encoder.fit_transform(df['target'])"
      ],
      "metadata": {
        "id": "h8NR7ITTZKuQ"
      },
      "execution_count": 5,
      "outputs": []
    },
    {
      "cell_type": "code",
      "source": [
        "# Split dataset\n",
        "X = df.drop(columns=['target'])\n",
        "y = df['target']\n",
        "X_train, X_test, y_train, y_test = train_test_split(X, y, test_size=0.2, random_state=42)"
      ],
      "metadata": {
        "id": "N6HGC97rZKrG"
      },
      "execution_count": 6,
      "outputs": []
    },
    {
      "cell_type": "code",
      "source": [
        "# Scale data\n",
        "scaler = StandardScaler()\n",
        "X_train_scaled = scaler.fit_transform(X_train)\n",
        "X_test_scaled = scaler.transform(X_test)"
      ],
      "metadata": {
        "id": "ABsQgpeFZKkP"
      },
      "execution_count": 7,
      "outputs": []
    },
    {
      "cell_type": "code",
      "source": [
        "# Dictionary to store model results\n",
        "results = {}"
      ],
      "metadata": {
        "id": "Jg7IgvP6ZKhW"
      },
      "execution_count": 8,
      "outputs": []
    },
    {
      "cell_type": "code",
      "source": [
        "# Simple Linear Regression (Using first feature to predict target)\n",
        "lr = LinearRegression()\n",
        "lr.fit(X_train_scaled[:, :1], y_train)\n",
        "y_pred_lr = lr.predict(X_test_scaled[:, :1])\n",
        "results['Simple Linear Regression'] = mean_squared_error(y_test, y_pred_lr)\n"
      ],
      "metadata": {
        "id": "_3cUrdR9ZllB"
      },
      "execution_count": 9,
      "outputs": []
    },
    {
      "cell_type": "code",
      "source": [
        "# Multiple Linear Regression\n",
        "mlr = LinearRegression()\n",
        "mlr.fit(X_train_scaled, y_train)\n",
        "y_pred_mlr = mlr.predict(X_test_scaled)\n",
        "results['Multiple Linear Regression'] = mean_squared_error(y_test, y_pred_mlr)\n"
      ],
      "metadata": {
        "id": "I2rIKn0LZlii"
      },
      "execution_count": 10,
      "outputs": []
    },
    {
      "cell_type": "code",
      "source": [
        "# Logistic Regression\n",
        "logistic = LogisticRegression()\n",
        "logistic.fit(X_train_scaled, y_train)\n",
        "y_pred_logistic = logistic.predict(X_test_scaled)\n",
        "results['Logistic Regression'] = accuracy_score(y_test, y_pred_logistic)\n"
      ],
      "metadata": {
        "id": "HKRltfiMZleg"
      },
      "execution_count": 11,
      "outputs": []
    },
    {
      "cell_type": "code",
      "source": [
        "# Decision Tree Regressor\n",
        "dt_reg = DecisionTreeRegressor()\n",
        "dt_reg.fit(X_train, y_train)\n",
        "y_pred_dt_reg = dt_reg.predict(X_test)\n",
        "results['Decision Tree Regressor'] = mean_squared_error(y_test, y_pred_dt_reg)"
      ],
      "metadata": {
        "id": "G1sKqYswZlbq"
      },
      "execution_count": 12,
      "outputs": []
    },
    {
      "cell_type": "code",
      "source": [
        "# Decision Tree Classifier\n",
        "dt_clf = DecisionTreeClassifier()\n",
        "dt_clf.fit(X_train, y_train)\n",
        "y_pred_dt_clf = dt_clf.predict(X_test)\n",
        "results['Decision Tree Classifier'] = accuracy_score(y_test, y_pred_dt_clf)\n"
      ],
      "metadata": {
        "id": "9bqJdtH3ZlYx"
      },
      "execution_count": 13,
      "outputs": []
    },
    {
      "cell_type": "code",
      "source": [
        "# Random Forest Classifier\n",
        "rf_clf = RandomForestClassifier(n_estimators=100)\n",
        "rf_clf.fit(X_train, y_train)\n",
        "y_pred_rf = rf_clf.predict(X_test)\n",
        "results['Random Forest Classifier'] = accuracy_score(y_test, y_pred_rf)"
      ],
      "metadata": {
        "id": "AQO1oGB-Z49m"
      },
      "execution_count": 14,
      "outputs": []
    },
    {
      "cell_type": "code",
      "source": [
        "# Naive Bayes\n",
        "nb = GaussianNB()\n",
        "nb.fit(X_train, y_train)\n",
        "y_pred_nb = nb.predict(X_test)\n",
        "results['Naive Bayes'] = accuracy_score(y_test, y_pred_nb)\n"
      ],
      "metadata": {
        "id": "wC4mG3C9Z468"
      },
      "execution_count": 15,
      "outputs": []
    },
    {
      "cell_type": "code",
      "source": [
        "# Support Vector Classifier (SVC)\n",
        "svc = SVC()\n",
        "svc.fit(X_train_scaled, y_train)\n",
        "y_pred_svc = svc.predict(X_test_scaled)\n",
        "results['SVC'] = accuracy_score(y_test, y_pred_svc)"
      ],
      "metadata": {
        "id": "6RvmSLbZZ44c"
      },
      "execution_count": 16,
      "outputs": []
    },
    {
      "cell_type": "code",
      "source": [
        "# XGBoost Classifier\n",
        "xgb = XGBClassifier(use_label_encoder=False, eval_metric='mlogloss', n_estimators=50)\n",
        "xgb.fit(X_train, y_train)\n",
        "y_pred_xgb = xgb.predict(X_test)\n",
        "results['XGBoost Classifier'] = accuracy_score(y_test, y_pred_xgb)\n"
      ],
      "metadata": {
        "colab": {
          "base_uri": "https://localhost:8080/"
        },
        "id": "pm_RL8FZZ41j",
        "outputId": "a5548a15-1164-4e85-b42a-1d2017c38e3a"
      },
      "execution_count": 17,
      "outputs": [
        {
          "output_type": "stream",
          "name": "stderr",
          "text": [
            "/usr/local/lib/python3.11/dist-packages/xgboost/core.py:158: UserWarning: [11:27:04] WARNING: /workspace/src/learner.cc:740: \n",
            "Parameters: { \"use_label_encoder\" } are not used.\n",
            "\n",
            "  warnings.warn(smsg, UserWarning)\n"
          ]
        }
      ]
    },
    {
      "cell_type": "code",
      "source": [
        "# Convert results to DataFrame for visualization\n",
        "results_df = pd.DataFrame.from_dict(results, orient='index', columns=['Score'])\n"
      ],
      "metadata": {
        "id": "Vbb_E1VdZ4tc"
      },
      "execution_count": 18,
      "outputs": []
    },
    {
      "cell_type": "code",
      "source": [
        "# Display results\n",
        "print(results_df)"
      ],
      "metadata": {
        "colab": {
          "base_uri": "https://localhost:8080/"
        },
        "id": "6ihA_ZKtZ4oj",
        "outputId": "239b325a-fade-4d21-d19e-bce51a683442"
      },
      "execution_count": 19,
      "outputs": [
        {
          "output_type": "stream",
          "name": "stdout",
          "text": [
            "                               Score\n",
            "Simple Linear Regression    0.197955\n",
            "Multiple Linear Regression  0.037114\n",
            "Logistic Regression         1.000000\n",
            "Decision Tree Regressor     0.000000\n",
            "Decision Tree Classifier    1.000000\n",
            "Random Forest Classifier    1.000000\n",
            "Naive Bayes                 1.000000\n",
            "SVC                         1.000000\n",
            "XGBoost Classifier          1.000000\n"
          ]
        }
      ]
    }
  ]
}